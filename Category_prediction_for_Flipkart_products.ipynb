{
 "cells": [
  {
   "cell_type": "code",
   "execution_count": 2,
   "id": "9b0303d7",
   "metadata": {},
   "outputs": [],
   "source": [
    "import os\n",
    "import numpy as np\n",
    "import pandas as pd\n",
    "import matplotlib.pyplot as plt\n",
    "import seaborn as sns"
   ]
  },
  {
   "cell_type": "code",
   "execution_count": 3,
   "id": "c1f99909",
   "metadata": {},
   "outputs": [
    {
     "data": {
      "text/plain": [
       "'/home/cdot/Desktop/ML_Folder/Flipkart_category_prediction/flipkart_categories_prediction'"
      ]
     },
     "execution_count": 3,
     "metadata": {},
     "output_type": "execute_result"
    }
   ],
   "source": [
    "%pwd"
   ]
  },
  {
   "cell_type": "code",
   "execution_count": 4,
   "id": "ab20fa3a",
   "metadata": {},
   "outputs": [],
   "source": [
    "os.chdir('../')"
   ]
  },
  {
   "cell_type": "code",
   "execution_count": 5,
   "id": "63eea657",
   "metadata": {},
   "outputs": [
    {
     "data": {
      "text/plain": [
       "'/home/cdot/Desktop/ML_Folder/Flipkart_category_prediction'"
      ]
     },
     "execution_count": 5,
     "metadata": {},
     "output_type": "execute_result"
    }
   ],
   "source": [
    "%pwd"
   ]
  },
  {
   "cell_type": "code",
   "execution_count": 6,
   "id": "a771e2f1",
   "metadata": {},
   "outputs": [],
   "source": [
    "os.chdir('/home/cdot/Desktop/datasets')"
   ]
  },
  {
   "cell_type": "code",
   "execution_count": 8,
   "id": "d8bae26d",
   "metadata": {},
   "outputs": [
    {
     "data": {
      "text/plain": [
       "['SampleData.csv',\n",
       " 'kagglecatsanddogs_5340',\n",
       " 'predict-energy-behavior-of-prosumers',\n",
       " 'face_recognition_30',\n",
       " 'images',\n",
       " 'train_dataset.csv',\n",
       " 'flipkart_com-ecommerce_sample.csv',\n",
       " 'kidney-ct-scan-image.zip',\n",
       " 'sampledataset.csv',\n",
       " 'Image_Cluster_verification.csv',\n",
       " 'naticusdroid+android+permissions+dataset',\n",
       " 'test_dataset.csv']"
      ]
     },
     "execution_count": 8,
     "metadata": {},
     "output_type": "execute_result"
    }
   ],
   "source": [
    "os.listdir()"
   ]
  },
  {
   "cell_type": "code",
   "execution_count": 9,
   "id": "fcef483e",
   "metadata": {},
   "outputs": [
    {
     "data": {
      "text/html": [
       "<div>\n",
       "<style scoped>\n",
       "    .dataframe tbody tr th:only-of-type {\n",
       "        vertical-align: middle;\n",
       "    }\n",
       "\n",
       "    .dataframe tbody tr th {\n",
       "        vertical-align: top;\n",
       "    }\n",
       "\n",
       "    .dataframe thead th {\n",
       "        text-align: right;\n",
       "    }\n",
       "</style>\n",
       "<table border=\"1\" class=\"dataframe\">\n",
       "  <thead>\n",
       "    <tr style=\"text-align: right;\">\n",
       "      <th></th>\n",
       "      <th>uniq_id</th>\n",
       "      <th>crawl_timestamp</th>\n",
       "      <th>product_url</th>\n",
       "      <th>product_name</th>\n",
       "      <th>product_category_tree</th>\n",
       "      <th>pid</th>\n",
       "      <th>retail_price</th>\n",
       "      <th>discounted_price</th>\n",
       "      <th>image</th>\n",
       "      <th>is_FK_Advantage_product</th>\n",
       "      <th>description</th>\n",
       "      <th>product_rating</th>\n",
       "      <th>overall_rating</th>\n",
       "      <th>brand</th>\n",
       "      <th>product_specifications</th>\n",
       "    </tr>\n",
       "  </thead>\n",
       "  <tbody>\n",
       "    <tr>\n",
       "      <th>0</th>\n",
       "      <td>c2d766ca982eca8304150849735ffef9</td>\n",
       "      <td>2016-03-25 22:59:23 +0000</td>\n",
       "      <td>http://www.flipkart.com/alisha-solid-women-s-c...</td>\n",
       "      <td>Alisha Solid Women's Cycling Shorts</td>\n",
       "      <td>[\"Clothing &gt;&gt; Women's Clothing &gt;&gt; Lingerie, Sl...</td>\n",
       "      <td>SRTEH2FF9KEDEFGF</td>\n",
       "      <td>999.0</td>\n",
       "      <td>379.0</td>\n",
       "      <td>[\"http://img5a.flixcart.com/image/short/u/4/a/...</td>\n",
       "      <td>False</td>\n",
       "      <td>Key Features of Alisha Solid Women's Cycling S...</td>\n",
       "      <td>No rating available</td>\n",
       "      <td>No rating available</td>\n",
       "      <td>Alisha</td>\n",
       "      <td>{\"product_specification\"=&gt;[{\"key\"=&gt;\"Number of ...</td>\n",
       "    </tr>\n",
       "    <tr>\n",
       "      <th>1</th>\n",
       "      <td>7f7036a6d550aaa89d34c77bd39a5e48</td>\n",
       "      <td>2016-03-25 22:59:23 +0000</td>\n",
       "      <td>http://www.flipkart.com/fabhomedecor-fabric-do...</td>\n",
       "      <td>FabHomeDecor Fabric Double Sofa Bed</td>\n",
       "      <td>[\"Furniture &gt;&gt; Living Room Furniture &gt;&gt; Sofa B...</td>\n",
       "      <td>SBEEH3QGU7MFYJFY</td>\n",
       "      <td>32157.0</td>\n",
       "      <td>22646.0</td>\n",
       "      <td>[\"http://img6a.flixcart.com/image/sofa-bed/j/f...</td>\n",
       "      <td>False</td>\n",
       "      <td>FabHomeDecor Fabric Double Sofa Bed (Finish Co...</td>\n",
       "      <td>No rating available</td>\n",
       "      <td>No rating available</td>\n",
       "      <td>FabHomeDecor</td>\n",
       "      <td>{\"product_specification\"=&gt;[{\"key\"=&gt;\"Installati...</td>\n",
       "    </tr>\n",
       "  </tbody>\n",
       "</table>\n",
       "</div>"
      ],
      "text/plain": [
       "                            uniq_id            crawl_timestamp   \n",
       "0  c2d766ca982eca8304150849735ffef9  2016-03-25 22:59:23 +0000  \\\n",
       "1  7f7036a6d550aaa89d34c77bd39a5e48  2016-03-25 22:59:23 +0000   \n",
       "\n",
       "                                         product_url   \n",
       "0  http://www.flipkart.com/alisha-solid-women-s-c...  \\\n",
       "1  http://www.flipkart.com/fabhomedecor-fabric-do...   \n",
       "\n",
       "                          product_name   \n",
       "0  Alisha Solid Women's Cycling Shorts  \\\n",
       "1  FabHomeDecor Fabric Double Sofa Bed   \n",
       "\n",
       "                               product_category_tree               pid   \n",
       "0  [\"Clothing >> Women's Clothing >> Lingerie, Sl...  SRTEH2FF9KEDEFGF  \\\n",
       "1  [\"Furniture >> Living Room Furniture >> Sofa B...  SBEEH3QGU7MFYJFY   \n",
       "\n",
       "   retail_price  discounted_price   \n",
       "0         999.0             379.0  \\\n",
       "1       32157.0           22646.0   \n",
       "\n",
       "                                               image  is_FK_Advantage_product   \n",
       "0  [\"http://img5a.flixcart.com/image/short/u/4/a/...                    False  \\\n",
       "1  [\"http://img6a.flixcart.com/image/sofa-bed/j/f...                    False   \n",
       "\n",
       "                                         description       product_rating   \n",
       "0  Key Features of Alisha Solid Women's Cycling S...  No rating available  \\\n",
       "1  FabHomeDecor Fabric Double Sofa Bed (Finish Co...  No rating available   \n",
       "\n",
       "        overall_rating         brand   \n",
       "0  No rating available        Alisha  \\\n",
       "1  No rating available  FabHomeDecor   \n",
       "\n",
       "                              product_specifications  \n",
       "0  {\"product_specification\"=>[{\"key\"=>\"Number of ...  \n",
       "1  {\"product_specification\"=>[{\"key\"=>\"Installati...  "
      ]
     },
     "execution_count": 9,
     "metadata": {},
     "output_type": "execute_result"
    }
   ],
   "source": [
    "fk_df = pd.read_csv(\"flipkart_com-ecommerce_sample.csv\")\n",
    "fk_df.head(2)"
   ]
  },
  {
   "cell_type": "code",
   "execution_count": 10,
   "id": "fde80edf",
   "metadata": {},
   "outputs": [
    {
     "data": {
      "text/plain": [
       "(20000, 15)"
      ]
     },
     "execution_count": 10,
     "metadata": {},
     "output_type": "execute_result"
    }
   ],
   "source": [
    "fk_df.shape"
   ]
  },
  {
   "cell_type": "code",
   "execution_count": 11,
   "id": "8bb87ccb",
   "metadata": {},
   "outputs": [
    {
     "data": {
      "text/plain": [
       "Index(['uniq_id', 'crawl_timestamp', 'product_url', 'product_name',\n",
       "       'product_category_tree', 'pid', 'retail_price', 'discounted_price',\n",
       "       'image', 'is_FK_Advantage_product', 'description', 'product_rating',\n",
       "       'overall_rating', 'brand', 'product_specifications'],\n",
       "      dtype='object')"
      ]
     },
     "execution_count": 11,
     "metadata": {},
     "output_type": "execute_result"
    }
   ],
   "source": [
    "fk_df.columns"
   ]
  },
  {
   "cell_type": "code",
   "execution_count": 12,
   "id": "6f0ec221",
   "metadata": {},
   "outputs": [
    {
     "data": {
      "text/html": [
       "<div>\n",
       "<style scoped>\n",
       "    .dataframe tbody tr th:only-of-type {\n",
       "        vertical-align: middle;\n",
       "    }\n",
       "\n",
       "    .dataframe tbody tr th {\n",
       "        vertical-align: top;\n",
       "    }\n",
       "\n",
       "    .dataframe thead th {\n",
       "        text-align: right;\n",
       "    }\n",
       "</style>\n",
       "<table border=\"1\" class=\"dataframe\">\n",
       "  <thead>\n",
       "    <tr style=\"text-align: right;\">\n",
       "      <th></th>\n",
       "      <th>uniq_id</th>\n",
       "      <th>crawl_timestamp</th>\n",
       "      <th>product_url</th>\n",
       "      <th>product_name</th>\n",
       "      <th>product_category_tree</th>\n",
       "      <th>pid</th>\n",
       "      <th>retail_price</th>\n",
       "      <th>discounted_price</th>\n",
       "      <th>image</th>\n",
       "      <th>is_FK_Advantage_product</th>\n",
       "      <th>description</th>\n",
       "      <th>product_rating</th>\n",
       "      <th>overall_rating</th>\n",
       "      <th>brand</th>\n",
       "      <th>product_specifications</th>\n",
       "    </tr>\n",
       "  </thead>\n",
       "  <tbody>\n",
       "    <tr>\n",
       "      <th>19998</th>\n",
       "      <td>669e79b8fa5d9ae020841c0c97d5e935</td>\n",
       "      <td>2015-12-01 10:15:43 +0000</td>\n",
       "      <td>http://www.flipkart.com/elite-collection-mediu...</td>\n",
       "      <td>Elite Collection Medium Acrylic Sticker</td>\n",
       "      <td>[\"Baby Care &gt;&gt; Baby &amp; Kids Gifts &gt;&gt; Stickers &gt;...</td>\n",
       "      <td>STIE8YSVEPPCZ42Y</td>\n",
       "      <td>1499.0</td>\n",
       "      <td>1199.0</td>\n",
       "      <td>[\"http://img5a.flixcart.com/image/sticker/4/2/...</td>\n",
       "      <td>False</td>\n",
       "      <td>Buy Elite Collection Medium Acrylic Sticker fo...</td>\n",
       "      <td>No rating available</td>\n",
       "      <td>No rating available</td>\n",
       "      <td>Elite Collection</td>\n",
       "      <td>{\"product_specification\"=&gt;[{\"key\"=&gt;\"Number of ...</td>\n",
       "    </tr>\n",
       "    <tr>\n",
       "      <th>19999</th>\n",
       "      <td>cb4fa87a874f715fff567f7b7b3be79c</td>\n",
       "      <td>2015-12-01 10:15:43 +0000</td>\n",
       "      <td>http://www.flipkart.com/elite-collection-mediu...</td>\n",
       "      <td>Elite Collection Medium Acrylic Sticker</td>\n",
       "      <td>[\"Baby Care &gt;&gt; Baby &amp; Kids Gifts &gt;&gt; Stickers &gt;...</td>\n",
       "      <td>STIE88KN9ZDSGZKY</td>\n",
       "      <td>1499.0</td>\n",
       "      <td>999.0</td>\n",
       "      <td>[\"http://img6a.flixcart.com/image/sticker/z/k/...</td>\n",
       "      <td>False</td>\n",
       "      <td>Buy Elite Collection Medium Acrylic Sticker fo...</td>\n",
       "      <td>No rating available</td>\n",
       "      <td>No rating available</td>\n",
       "      <td>Elite Collection</td>\n",
       "      <td>{\"product_specification\"=&gt;[{\"key\"=&gt;\"Number of ...</td>\n",
       "    </tr>\n",
       "  </tbody>\n",
       "</table>\n",
       "</div>"
      ],
      "text/plain": [
       "                                uniq_id            crawl_timestamp   \n",
       "19998  669e79b8fa5d9ae020841c0c97d5e935  2015-12-01 10:15:43 +0000  \\\n",
       "19999  cb4fa87a874f715fff567f7b7b3be79c  2015-12-01 10:15:43 +0000   \n",
       "\n",
       "                                             product_url   \n",
       "19998  http://www.flipkart.com/elite-collection-mediu...  \\\n",
       "19999  http://www.flipkart.com/elite-collection-mediu...   \n",
       "\n",
       "                                  product_name   \n",
       "19998  Elite Collection Medium Acrylic Sticker  \\\n",
       "19999  Elite Collection Medium Acrylic Sticker   \n",
       "\n",
       "                                   product_category_tree               pid   \n",
       "19998  [\"Baby Care >> Baby & Kids Gifts >> Stickers >...  STIE8YSVEPPCZ42Y  \\\n",
       "19999  [\"Baby Care >> Baby & Kids Gifts >> Stickers >...  STIE88KN9ZDSGZKY   \n",
       "\n",
       "       retail_price  discounted_price   \n",
       "19998        1499.0            1199.0  \\\n",
       "19999        1499.0             999.0   \n",
       "\n",
       "                                                   image   \n",
       "19998  [\"http://img5a.flixcart.com/image/sticker/4/2/...  \\\n",
       "19999  [\"http://img6a.flixcart.com/image/sticker/z/k/...   \n",
       "\n",
       "       is_FK_Advantage_product   \n",
       "19998                    False  \\\n",
       "19999                    False   \n",
       "\n",
       "                                             description       product_rating   \n",
       "19998  Buy Elite Collection Medium Acrylic Sticker fo...  No rating available  \\\n",
       "19999  Buy Elite Collection Medium Acrylic Sticker fo...  No rating available   \n",
       "\n",
       "            overall_rating             brand   \n",
       "19998  No rating available  Elite Collection  \\\n",
       "19999  No rating available  Elite Collection   \n",
       "\n",
       "                                  product_specifications  \n",
       "19998  {\"product_specification\"=>[{\"key\"=>\"Number of ...  \n",
       "19999  {\"product_specification\"=>[{\"key\"=>\"Number of ...  "
      ]
     },
     "execution_count": 12,
     "metadata": {},
     "output_type": "execute_result"
    }
   ],
   "source": [
    "fk_df.tail(2)"
   ]
  },
  {
   "cell_type": "code",
   "execution_count": 13,
   "id": "62575cfa",
   "metadata": {},
   "outputs": [
    {
     "name": "stdout",
     "output_type": "stream",
     "text": [
      "<class 'pandas.core.frame.DataFrame'>\n",
      "RangeIndex: 20000 entries, 0 to 19999\n",
      "Data columns (total 15 columns):\n",
      " #   Column                   Non-Null Count  Dtype  \n",
      "---  ------                   --------------  -----  \n",
      " 0   uniq_id                  20000 non-null  object \n",
      " 1   crawl_timestamp          20000 non-null  object \n",
      " 2   product_url              20000 non-null  object \n",
      " 3   product_name             20000 non-null  object \n",
      " 4   product_category_tree    20000 non-null  object \n",
      " 5   pid                      20000 non-null  object \n",
      " 6   retail_price             19922 non-null  float64\n",
      " 7   discounted_price         19922 non-null  float64\n",
      " 8   image                    19997 non-null  object \n",
      " 9   is_FK_Advantage_product  20000 non-null  bool   \n",
      " 10  description              19998 non-null  object \n",
      " 11  product_rating           20000 non-null  object \n",
      " 12  overall_rating           20000 non-null  object \n",
      " 13  brand                    14136 non-null  object \n",
      " 14  product_specifications   19986 non-null  object \n",
      "dtypes: bool(1), float64(2), object(12)\n",
      "memory usage: 2.2+ MB\n"
     ]
    }
   ],
   "source": [
    "fk_df.info()"
   ]
  },
  {
   "cell_type": "code",
   "execution_count": 14,
   "id": "73e8fcf4",
   "metadata": {},
   "outputs": [
    {
     "data": {
      "text/plain": [
       "uniq_id                     object\n",
       "crawl_timestamp             object\n",
       "product_url                 object\n",
       "product_name                object\n",
       "product_category_tree       object\n",
       "pid                         object\n",
       "retail_price               float64\n",
       "discounted_price           float64\n",
       "image                       object\n",
       "is_FK_Advantage_product       bool\n",
       "description                 object\n",
       "product_rating              object\n",
       "overall_rating              object\n",
       "brand                       object\n",
       "product_specifications      object\n",
       "dtype: object"
      ]
     },
     "execution_count": 14,
     "metadata": {},
     "output_type": "execute_result"
    }
   ],
   "source": [
    "fk_df.dtypes"
   ]
  },
  {
   "cell_type": "code",
   "execution_count": 15,
   "id": "5c6e75d3",
   "metadata": {},
   "outputs": [
    {
     "data": {
      "text/html": [
       "<div>\n",
       "<style scoped>\n",
       "    .dataframe tbody tr th:only-of-type {\n",
       "        vertical-align: middle;\n",
       "    }\n",
       "\n",
       "    .dataframe tbody tr th {\n",
       "        vertical-align: top;\n",
       "    }\n",
       "\n",
       "    .dataframe thead th {\n",
       "        text-align: right;\n",
       "    }\n",
       "</style>\n",
       "<table border=\"1\" class=\"dataframe\">\n",
       "  <thead>\n",
       "    <tr style=\"text-align: right;\">\n",
       "      <th></th>\n",
       "      <th>retail_price</th>\n",
       "      <th>discounted_price</th>\n",
       "    </tr>\n",
       "  </thead>\n",
       "  <tbody>\n",
       "    <tr>\n",
       "      <th>count</th>\n",
       "      <td>19922.000000</td>\n",
       "      <td>19922.000000</td>\n",
       "    </tr>\n",
       "    <tr>\n",
       "      <th>mean</th>\n",
       "      <td>2979.206104</td>\n",
       "      <td>1973.401767</td>\n",
       "    </tr>\n",
       "    <tr>\n",
       "      <th>std</th>\n",
       "      <td>9009.639341</td>\n",
       "      <td>7333.586040</td>\n",
       "    </tr>\n",
       "    <tr>\n",
       "      <th>min</th>\n",
       "      <td>35.000000</td>\n",
       "      <td>35.000000</td>\n",
       "    </tr>\n",
       "    <tr>\n",
       "      <th>25%</th>\n",
       "      <td>666.000000</td>\n",
       "      <td>350.000000</td>\n",
       "    </tr>\n",
       "    <tr>\n",
       "      <th>50%</th>\n",
       "      <td>1040.000000</td>\n",
       "      <td>550.000000</td>\n",
       "    </tr>\n",
       "    <tr>\n",
       "      <th>75%</th>\n",
       "      <td>1999.000000</td>\n",
       "      <td>999.000000</td>\n",
       "    </tr>\n",
       "    <tr>\n",
       "      <th>max</th>\n",
       "      <td>571230.000000</td>\n",
       "      <td>571230.000000</td>\n",
       "    </tr>\n",
       "  </tbody>\n",
       "</table>\n",
       "</div>"
      ],
      "text/plain": [
       "        retail_price  discounted_price\n",
       "count   19922.000000      19922.000000\n",
       "mean     2979.206104       1973.401767\n",
       "std      9009.639341       7333.586040\n",
       "min        35.000000         35.000000\n",
       "25%       666.000000        350.000000\n",
       "50%      1040.000000        550.000000\n",
       "75%      1999.000000        999.000000\n",
       "max    571230.000000     571230.000000"
      ]
     },
     "execution_count": 15,
     "metadata": {},
     "output_type": "execute_result"
    }
   ],
   "source": [
    "fk_df.describe()"
   ]
  },
  {
   "cell_type": "code",
   "execution_count": 16,
   "id": "a1b7354d",
   "metadata": {},
   "outputs": [
    {
     "data": {
      "text/html": [
       "<div>\n",
       "<style scoped>\n",
       "    .dataframe tbody tr th:only-of-type {\n",
       "        vertical-align: middle;\n",
       "    }\n",
       "\n",
       "    .dataframe tbody tr th {\n",
       "        vertical-align: top;\n",
       "    }\n",
       "\n",
       "    .dataframe thead th {\n",
       "        text-align: right;\n",
       "    }\n",
       "</style>\n",
       "<table border=\"1\" class=\"dataframe\">\n",
       "  <thead>\n",
       "    <tr style=\"text-align: right;\">\n",
       "      <th></th>\n",
       "      <th>count</th>\n",
       "      <th>unique</th>\n",
       "      <th>top</th>\n",
       "      <th>freq</th>\n",
       "    </tr>\n",
       "  </thead>\n",
       "  <tbody>\n",
       "    <tr>\n",
       "      <th>uniq_id</th>\n",
       "      <td>20000</td>\n",
       "      <td>20000</td>\n",
       "      <td>c2d766ca982eca8304150849735ffef9</td>\n",
       "      <td>1</td>\n",
       "    </tr>\n",
       "    <tr>\n",
       "      <th>crawl_timestamp</th>\n",
       "      <td>20000</td>\n",
       "      <td>371</td>\n",
       "      <td>2015-12-01 12:40:44 +0000</td>\n",
       "      <td>1979</td>\n",
       "    </tr>\n",
       "    <tr>\n",
       "      <th>product_url</th>\n",
       "      <td>20000</td>\n",
       "      <td>20000</td>\n",
       "      <td>http://www.flipkart.com/alisha-solid-women-s-c...</td>\n",
       "      <td>1</td>\n",
       "    </tr>\n",
       "    <tr>\n",
       "      <th>product_name</th>\n",
       "      <td>20000</td>\n",
       "      <td>12676</td>\n",
       "      <td>TheLostPuppy Back Cover for Apple iPad Air</td>\n",
       "      <td>134</td>\n",
       "    </tr>\n",
       "    <tr>\n",
       "      <th>product_category_tree</th>\n",
       "      <td>20000</td>\n",
       "      <td>6466</td>\n",
       "      <td>[\"Jewellery &gt;&gt; Necklaces &amp; Chains &gt;&gt; Necklaces\"]</td>\n",
       "      <td>1567</td>\n",
       "    </tr>\n",
       "    <tr>\n",
       "      <th>pid</th>\n",
       "      <td>20000</td>\n",
       "      <td>19998</td>\n",
       "      <td>JEAEGE8Q8GXYFTGU</td>\n",
       "      <td>2</td>\n",
       "    </tr>\n",
       "    <tr>\n",
       "      <th>image</th>\n",
       "      <td>19997</td>\n",
       "      <td>18589</td>\n",
       "      <td>[\"http://img6a.flixcart.com/image/car-mat/m/t/...</td>\n",
       "      <td>45</td>\n",
       "    </tr>\n",
       "    <tr>\n",
       "      <th>description</th>\n",
       "      <td>19998</td>\n",
       "      <td>17539</td>\n",
       "      <td>TheLostPuppy Back Cover for Apple iPad Air (Mu...</td>\n",
       "      <td>92</td>\n",
       "    </tr>\n",
       "    <tr>\n",
       "      <th>product_rating</th>\n",
       "      <td>20000</td>\n",
       "      <td>36</td>\n",
       "      <td>No rating available</td>\n",
       "      <td>18151</td>\n",
       "    </tr>\n",
       "    <tr>\n",
       "      <th>overall_rating</th>\n",
       "      <td>20000</td>\n",
       "      <td>36</td>\n",
       "      <td>No rating available</td>\n",
       "      <td>18151</td>\n",
       "    </tr>\n",
       "    <tr>\n",
       "      <th>brand</th>\n",
       "      <td>14136</td>\n",
       "      <td>3499</td>\n",
       "      <td>Allure Auto</td>\n",
       "      <td>469</td>\n",
       "    </tr>\n",
       "    <tr>\n",
       "      <th>product_specifications</th>\n",
       "      <td>19986</td>\n",
       "      <td>18825</td>\n",
       "      <td>{\"product_specification\"=&gt;[{\"key\"=&gt;\"Type\", \"va...</td>\n",
       "      <td>71</td>\n",
       "    </tr>\n",
       "  </tbody>\n",
       "</table>\n",
       "</div>"
      ],
      "text/plain": [
       "                        count unique   \n",
       "uniq_id                 20000  20000  \\\n",
       "crawl_timestamp         20000    371   \n",
       "product_url             20000  20000   \n",
       "product_name            20000  12676   \n",
       "product_category_tree   20000   6466   \n",
       "pid                     20000  19998   \n",
       "image                   19997  18589   \n",
       "description             19998  17539   \n",
       "product_rating          20000     36   \n",
       "overall_rating          20000     36   \n",
       "brand                   14136   3499   \n",
       "product_specifications  19986  18825   \n",
       "\n",
       "                                                                      top   \n",
       "uniq_id                                  c2d766ca982eca8304150849735ffef9  \\\n",
       "crawl_timestamp                                 2015-12-01 12:40:44 +0000   \n",
       "product_url             http://www.flipkart.com/alisha-solid-women-s-c...   \n",
       "product_name                   TheLostPuppy Back Cover for Apple iPad Air   \n",
       "product_category_tree    [\"Jewellery >> Necklaces & Chains >> Necklaces\"]   \n",
       "pid                                                      JEAEGE8Q8GXYFTGU   \n",
       "image                   [\"http://img6a.flixcart.com/image/car-mat/m/t/...   \n",
       "description             TheLostPuppy Back Cover for Apple iPad Air (Mu...   \n",
       "product_rating                                        No rating available   \n",
       "overall_rating                                        No rating available   \n",
       "brand                                                         Allure Auto   \n",
       "product_specifications  {\"product_specification\"=>[{\"key\"=>\"Type\", \"va...   \n",
       "\n",
       "                         freq  \n",
       "uniq_id                     1  \n",
       "crawl_timestamp          1979  \n",
       "product_url                 1  \n",
       "product_name              134  \n",
       "product_category_tree    1567  \n",
       "pid                         2  \n",
       "image                      45  \n",
       "description                92  \n",
       "product_rating          18151  \n",
       "overall_rating          18151  \n",
       "brand                     469  \n",
       "product_specifications     71  "
      ]
     },
     "execution_count": 16,
     "metadata": {},
     "output_type": "execute_result"
    }
   ],
   "source": [
    "fk_df.describe(include = \"O\").T"
   ]
  },
  {
   "cell_type": "code",
   "execution_count": 17,
   "id": "e203add0",
   "metadata": {},
   "outputs": [],
   "source": [
    "fk_df[\"crawl_timestamp\"] = pd.to_datetime(fk_df[\"crawl_timestamp\"])"
   ]
  },
  {
   "cell_type": "code",
   "execution_count": 18,
   "id": "11f56ecd",
   "metadata": {},
   "outputs": [
    {
     "data": {
      "text/plain": [
       "uniq_id                                 object\n",
       "crawl_timestamp            datetime64[ns, UTC]\n",
       "product_url                             object\n",
       "product_name                            object\n",
       "product_category_tree                   object\n",
       "pid                                     object\n",
       "retail_price                           float64\n",
       "discounted_price                       float64\n",
       "image                                   object\n",
       "is_FK_Advantage_product                   bool\n",
       "description                             object\n",
       "product_rating                          object\n",
       "overall_rating                          object\n",
       "brand                                   object\n",
       "product_specifications                  object\n",
       "dtype: object"
      ]
     },
     "execution_count": 18,
     "metadata": {},
     "output_type": "execute_result"
    }
   ],
   "source": [
    "fk_df.dtypes"
   ]
  },
  {
   "cell_type": "code",
   "execution_count": 19,
   "id": "963b01a7",
   "metadata": {},
   "outputs": [
    {
     "data": {
      "text/plain": [
       "0        [\"http://img5a.flixcart.com/image/short/u/4/a/...\n",
       "1        [\"http://img6a.flixcart.com/image/sofa-bed/j/f...\n",
       "2        [\"http://img5a.flixcart.com/image/shoe/7/z/z/r...\n",
       "3        [\"http://img5a.flixcart.com/image/short/6/2/h/...\n",
       "4        [\"http://img5a.flixcart.com/image/pet-shampoo/...\n",
       "                               ...                        \n",
       "19995    [\"http://img6a.flixcart.com/image/wall-decorat...\n",
       "19996    [\"http://img6a.flixcart.com/image/sticker/z/g/...\n",
       "19997    [\"http://img5a.flixcart.com/image/sticker/b/s/...\n",
       "19998    [\"http://img5a.flixcart.com/image/sticker/4/2/...\n",
       "19999    [\"http://img6a.flixcart.com/image/sticker/z/k/...\n",
       "Name: image, Length: 20000, dtype: object"
      ]
     },
     "execution_count": 19,
     "metadata": {},
     "output_type": "execute_result"
    }
   ],
   "source": [
    "fk_df[\"image\"]"
   ]
  },
  {
   "cell_type": "code",
   "execution_count": 37,
   "id": "7daf3fb1",
   "metadata": {},
   "outputs": [],
   "source": [
    "\n",
    "# # importing modules \n",
    "# import urllib.request as req\n",
    "# from PIL import Image \n",
    "  \n",
    "# req.urlretrieve(\"http://img5a.flixcart.com/image/short/u/4/a/altht-3p-21-alisha-38-original-imaeh2d5vm5zbtgg.jpeg\", \"sample_img.jpeg\") \n",
    "  \n",
    "# img = Image.open(\"sample_img.jpeg\") \n",
    "# img.show()"
   ]
  },
  {
   "cell_type": "code",
   "execution_count": 20,
   "id": "488fe92e",
   "metadata": {},
   "outputs": [
    {
     "data": {
      "text/plain": [
       "product_rating\n",
       "No rating available    18151\n",
       "5                        620\n",
       "4                        246\n",
       "1                        171\n",
       "3                        168\n",
       "2                         80\n",
       "4.5                       67\n",
       "3.7                       51\n",
       "4.2                       47\n",
       "3.5                       45\n",
       "4.3                       45\n",
       "3.6                       25\n",
       "4.1                       24\n",
       "4.7                       24\n",
       "2.5                       23\n",
       "3.8                       23\n",
       "4.8                       21\n",
       "3.2                       20\n",
       "3.3                       17\n",
       "4.4                       16\n",
       "3.9                       15\n",
       "3.4                       13\n",
       "2.3                       12\n",
       "2.8                       11\n",
       "2.7                       10\n",
       "4.6                        9\n",
       "2.2                        8\n",
       "3.1                        7\n",
       "2.4                        5\n",
       "2.9                        5\n",
       "1.5                        4\n",
       "4.9                        4\n",
       "1.3                        4\n",
       "1.7                        4\n",
       "2.6                        3\n",
       "1.8                        2\n",
       "Name: count, dtype: int64"
      ]
     },
     "execution_count": 20,
     "metadata": {},
     "output_type": "execute_result"
    }
   ],
   "source": [
    "fk_df[\"product_rating\"].value_counts()"
   ]
  },
  {
   "cell_type": "code",
   "execution_count": 21,
   "id": "344289ce",
   "metadata": {},
   "outputs": [
    {
     "data": {
      "text/plain": [
       "uniq_id                       0\n",
       "crawl_timestamp               0\n",
       "product_url                   0\n",
       "product_name                  0\n",
       "product_category_tree         0\n",
       "pid                           0\n",
       "retail_price                 78\n",
       "discounted_price             78\n",
       "image                         3\n",
       "is_FK_Advantage_product       0\n",
       "description                   2\n",
       "product_rating                0\n",
       "overall_rating                0\n",
       "brand                      5864\n",
       "product_specifications       14\n",
       "dtype: int64"
      ]
     },
     "execution_count": 21,
     "metadata": {},
     "output_type": "execute_result"
    }
   ],
   "source": [
    "fk_df.isnull().sum()"
   ]
  },
  {
   "cell_type": "code",
   "execution_count": 22,
   "id": "2074346d",
   "metadata": {},
   "outputs": [
    {
     "data": {
      "text/html": [
       "<div>\n",
       "<style scoped>\n",
       "    .dataframe tbody tr th:only-of-type {\n",
       "        vertical-align: middle;\n",
       "    }\n",
       "\n",
       "    .dataframe tbody tr th {\n",
       "        vertical-align: top;\n",
       "    }\n",
       "\n",
       "    .dataframe thead th {\n",
       "        text-align: right;\n",
       "    }\n",
       "</style>\n",
       "<table border=\"1\" class=\"dataframe\">\n",
       "  <thead>\n",
       "    <tr style=\"text-align: right;\">\n",
       "      <th></th>\n",
       "      <th>uniq_id</th>\n",
       "      <th>crawl_timestamp</th>\n",
       "      <th>product_url</th>\n",
       "      <th>product_name</th>\n",
       "      <th>product_category_tree</th>\n",
       "      <th>pid</th>\n",
       "      <th>retail_price</th>\n",
       "      <th>discounted_price</th>\n",
       "      <th>image</th>\n",
       "      <th>is_FK_Advantage_product</th>\n",
       "      <th>description</th>\n",
       "      <th>product_rating</th>\n",
       "      <th>overall_rating</th>\n",
       "      <th>brand</th>\n",
       "      <th>product_specifications</th>\n",
       "    </tr>\n",
       "  </thead>\n",
       "  <tbody>\n",
       "    <tr>\n",
       "      <th>0</th>\n",
       "      <td>c2d766ca982eca8304150849735ffef9</td>\n",
       "      <td>2016-03-25 22:59:23+00:00</td>\n",
       "      <td>http://www.flipkart.com/alisha-solid-women-s-c...</td>\n",
       "      <td>Alisha Solid Women's Cycling Shorts</td>\n",
       "      <td>[\"Clothing &gt;&gt; Women's Clothing &gt;&gt; Lingerie, Sl...</td>\n",
       "      <td>SRTEH2FF9KEDEFGF</td>\n",
       "      <td>999.0</td>\n",
       "      <td>379.0</td>\n",
       "      <td>[\"http://img5a.flixcart.com/image/short/u/4/a/...</td>\n",
       "      <td>False</td>\n",
       "      <td>Key Features of Alisha Solid Women's Cycling S...</td>\n",
       "      <td>No rating available</td>\n",
       "      <td>No rating available</td>\n",
       "      <td>Alisha</td>\n",
       "      <td>{\"product_specification\"=&gt;[{\"key\"=&gt;\"Number of ...</td>\n",
       "    </tr>\n",
       "    <tr>\n",
       "      <th>1</th>\n",
       "      <td>7f7036a6d550aaa89d34c77bd39a5e48</td>\n",
       "      <td>2016-03-25 22:59:23+00:00</td>\n",
       "      <td>http://www.flipkart.com/fabhomedecor-fabric-do...</td>\n",
       "      <td>FabHomeDecor Fabric Double Sofa Bed</td>\n",
       "      <td>[\"Furniture &gt;&gt; Living Room Furniture &gt;&gt; Sofa B...</td>\n",
       "      <td>SBEEH3QGU7MFYJFY</td>\n",
       "      <td>32157.0</td>\n",
       "      <td>22646.0</td>\n",
       "      <td>[\"http://img6a.flixcart.com/image/sofa-bed/j/f...</td>\n",
       "      <td>False</td>\n",
       "      <td>FabHomeDecor Fabric Double Sofa Bed (Finish Co...</td>\n",
       "      <td>No rating available</td>\n",
       "      <td>No rating available</td>\n",
       "      <td>FabHomeDecor</td>\n",
       "      <td>{\"product_specification\"=&gt;[{\"key\"=&gt;\"Installati...</td>\n",
       "    </tr>\n",
       "    <tr>\n",
       "      <th>2</th>\n",
       "      <td>f449ec65dcbc041b6ae5e6a32717d01b</td>\n",
       "      <td>2016-03-25 22:59:23+00:00</td>\n",
       "      <td>http://www.flipkart.com/aw-bellies/p/itmeh4grg...</td>\n",
       "      <td>AW Bellies</td>\n",
       "      <td>[\"Footwear &gt;&gt; Women's Footwear &gt;&gt; Ballerinas &gt;...</td>\n",
       "      <td>SHOEH4GRSUBJGZXE</td>\n",
       "      <td>999.0</td>\n",
       "      <td>499.0</td>\n",
       "      <td>[\"http://img5a.flixcart.com/image/shoe/7/z/z/r...</td>\n",
       "      <td>False</td>\n",
       "      <td>Key Features of AW Bellies Sandals Wedges Heel...</td>\n",
       "      <td>No rating available</td>\n",
       "      <td>No rating available</td>\n",
       "      <td>AW</td>\n",
       "      <td>{\"product_specification\"=&gt;[{\"key\"=&gt;\"Ideal For\"...</td>\n",
       "    </tr>\n",
       "    <tr>\n",
       "      <th>3</th>\n",
       "      <td>0973b37acd0c664e3de26e97e5571454</td>\n",
       "      <td>2016-03-25 22:59:23+00:00</td>\n",
       "      <td>http://www.flipkart.com/alisha-solid-women-s-c...</td>\n",
       "      <td>Alisha Solid Women's Cycling Shorts</td>\n",
       "      <td>[\"Clothing &gt;&gt; Women's Clothing &gt;&gt; Lingerie, Sl...</td>\n",
       "      <td>SRTEH2F6HUZMQ6SJ</td>\n",
       "      <td>699.0</td>\n",
       "      <td>267.0</td>\n",
       "      <td>[\"http://img5a.flixcart.com/image/short/6/2/h/...</td>\n",
       "      <td>False</td>\n",
       "      <td>Key Features of Alisha Solid Women's Cycling S...</td>\n",
       "      <td>No rating available</td>\n",
       "      <td>No rating available</td>\n",
       "      <td>Alisha</td>\n",
       "      <td>{\"product_specification\"=&gt;[{\"key\"=&gt;\"Number of ...</td>\n",
       "    </tr>\n",
       "    <tr>\n",
       "      <th>4</th>\n",
       "      <td>bc940ea42ee6bef5ac7cea3fb5cfbee7</td>\n",
       "      <td>2016-03-25 22:59:23+00:00</td>\n",
       "      <td>http://www.flipkart.com/sicons-all-purpose-arn...</td>\n",
       "      <td>Sicons All Purpose Arnica Dog Shampoo</td>\n",
       "      <td>[\"Pet Supplies &gt;&gt; Grooming &gt;&gt; Skin &amp; Coat Care...</td>\n",
       "      <td>PSOEH3ZYDMSYARJ5</td>\n",
       "      <td>220.0</td>\n",
       "      <td>210.0</td>\n",
       "      <td>[\"http://img5a.flixcart.com/image/pet-shampoo/...</td>\n",
       "      <td>False</td>\n",
       "      <td>Specifications of Sicons All Purpose Arnica Do...</td>\n",
       "      <td>No rating available</td>\n",
       "      <td>No rating available</td>\n",
       "      <td>Sicons</td>\n",
       "      <td>{\"product_specification\"=&gt;[{\"key\"=&gt;\"Pet Type\",...</td>\n",
       "    </tr>\n",
       "  </tbody>\n",
       "</table>\n",
       "</div>"
      ],
      "text/plain": [
       "                            uniq_id           crawl_timestamp   \n",
       "0  c2d766ca982eca8304150849735ffef9 2016-03-25 22:59:23+00:00  \\\n",
       "1  7f7036a6d550aaa89d34c77bd39a5e48 2016-03-25 22:59:23+00:00   \n",
       "2  f449ec65dcbc041b6ae5e6a32717d01b 2016-03-25 22:59:23+00:00   \n",
       "3  0973b37acd0c664e3de26e97e5571454 2016-03-25 22:59:23+00:00   \n",
       "4  bc940ea42ee6bef5ac7cea3fb5cfbee7 2016-03-25 22:59:23+00:00   \n",
       "\n",
       "                                         product_url   \n",
       "0  http://www.flipkart.com/alisha-solid-women-s-c...  \\\n",
       "1  http://www.flipkart.com/fabhomedecor-fabric-do...   \n",
       "2  http://www.flipkart.com/aw-bellies/p/itmeh4grg...   \n",
       "3  http://www.flipkart.com/alisha-solid-women-s-c...   \n",
       "4  http://www.flipkart.com/sicons-all-purpose-arn...   \n",
       "\n",
       "                            product_name   \n",
       "0    Alisha Solid Women's Cycling Shorts  \\\n",
       "1    FabHomeDecor Fabric Double Sofa Bed   \n",
       "2                             AW Bellies   \n",
       "3    Alisha Solid Women's Cycling Shorts   \n",
       "4  Sicons All Purpose Arnica Dog Shampoo   \n",
       "\n",
       "                               product_category_tree               pid   \n",
       "0  [\"Clothing >> Women's Clothing >> Lingerie, Sl...  SRTEH2FF9KEDEFGF  \\\n",
       "1  [\"Furniture >> Living Room Furniture >> Sofa B...  SBEEH3QGU7MFYJFY   \n",
       "2  [\"Footwear >> Women's Footwear >> Ballerinas >...  SHOEH4GRSUBJGZXE   \n",
       "3  [\"Clothing >> Women's Clothing >> Lingerie, Sl...  SRTEH2F6HUZMQ6SJ   \n",
       "4  [\"Pet Supplies >> Grooming >> Skin & Coat Care...  PSOEH3ZYDMSYARJ5   \n",
       "\n",
       "   retail_price  discounted_price   \n",
       "0         999.0             379.0  \\\n",
       "1       32157.0           22646.0   \n",
       "2         999.0             499.0   \n",
       "3         699.0             267.0   \n",
       "4         220.0             210.0   \n",
       "\n",
       "                                               image  is_FK_Advantage_product   \n",
       "0  [\"http://img5a.flixcart.com/image/short/u/4/a/...                    False  \\\n",
       "1  [\"http://img6a.flixcart.com/image/sofa-bed/j/f...                    False   \n",
       "2  [\"http://img5a.flixcart.com/image/shoe/7/z/z/r...                    False   \n",
       "3  [\"http://img5a.flixcart.com/image/short/6/2/h/...                    False   \n",
       "4  [\"http://img5a.flixcart.com/image/pet-shampoo/...                    False   \n",
       "\n",
       "                                         description       product_rating   \n",
       "0  Key Features of Alisha Solid Women's Cycling S...  No rating available  \\\n",
       "1  FabHomeDecor Fabric Double Sofa Bed (Finish Co...  No rating available   \n",
       "2  Key Features of AW Bellies Sandals Wedges Heel...  No rating available   \n",
       "3  Key Features of Alisha Solid Women's Cycling S...  No rating available   \n",
       "4  Specifications of Sicons All Purpose Arnica Do...  No rating available   \n",
       "\n",
       "        overall_rating         brand   \n",
       "0  No rating available        Alisha  \\\n",
       "1  No rating available  FabHomeDecor   \n",
       "2  No rating available            AW   \n",
       "3  No rating available        Alisha   \n",
       "4  No rating available        Sicons   \n",
       "\n",
       "                              product_specifications  \n",
       "0  {\"product_specification\"=>[{\"key\"=>\"Number of ...  \n",
       "1  {\"product_specification\"=>[{\"key\"=>\"Installati...  \n",
       "2  {\"product_specification\"=>[{\"key\"=>\"Ideal For\"...  \n",
       "3  {\"product_specification\"=>[{\"key\"=>\"Number of ...  \n",
       "4  {\"product_specification\"=>[{\"key\"=>\"Pet Type\",...  "
      ]
     },
     "execution_count": 22,
     "metadata": {},
     "output_type": "execute_result"
    }
   ],
   "source": [
    "fk_df.head()"
   ]
  },
  {
   "cell_type": "code",
   "execution_count": 23,
   "id": "7a285808",
   "metadata": {},
   "outputs": [
    {
     "data": {
      "text/plain": [
       "crawl_timestamp\n",
       "2015-12-01 12:40:44+00:00    1979\n",
       "2015-12-01 06:13:00+00:00    1959\n",
       "2016-01-07 06:04:02+00:00    1000\n",
       "2015-12-12 11:46:53+00:00     950\n",
       "2015-12-30 00:17:46+00:00     940\n",
       "                             ... \n",
       "2016-05-29 23:15:49+00:00       1\n",
       "2016-06-12 15:33:31+00:00       1\n",
       "2016-05-29 14:55:37+00:00       1\n",
       "2016-06-12 20:17:49+00:00       1\n",
       "2016-06-04 09:02:49+00:00       1\n",
       "Name: count, Length: 371, dtype: int64"
      ]
     },
     "execution_count": 23,
     "metadata": {},
     "output_type": "execute_result"
    }
   ],
   "source": [
    "fk_df[\"crawl_timestamp\"].value_counts()"
   ]
  },
  {
   "cell_type": "code",
   "execution_count": 52,
   "id": "62645641",
   "metadata": {},
   "outputs": [
    {
     "data": {
      "image/png": "[encoded data removed]",
      "text/plain": [
       "<Figure size 640x480 with 1 Axes>"
      ]
     },
     "metadata": {},
     "output_type": "display_data"
    }
   ],
   "source": [
    "ax = fk_df[\"crawl_timestamp\"].value_counts().plot(kind = \"hist\", bins = 20, )\n",
    "ax.set_xlabel(\"crawl_timestamp\")\n",
    "plt.show()"
   ]
  },
  {
   "cell_type": "code",
   "execution_count": 56,
   "id": "943bfc09",
   "metadata": {},
   "outputs": [
    {
     "data": {
      "text/plain": [
       "<AxesSubplot:xlabel='product_category_tree'>"
      ]
     },
     "execution_count": 56,
     "metadata": {},
     "output_type": "execute_result"
    },
    {
     "data": {
      "image/png": "[encoded data removed]",
      "text/plain": [
       "<Figure size 640x480 with 1 Axes>"
      ]
     },
     "metadata": {},
     "output_type": "display_data"
    }
   ],
   "source": [
    "fk_df[\"product_category_tree\"].value_counts()[:10].plot(kind = \"bar\")"
   ]
  },
  {
   "cell_type": "code",
   "execution_count": 64,
   "id": "770f109f",
   "metadata": {},
   "outputs": [
    {
     "data": {
      "text/plain": [
       "<AxesSubplot:xlabel='is_FK_Advantage_product'>"
      ]
     },
     "execution_count": 64,
     "metadata": {},
     "output_type": "execute_result"
    },
    {
     "data": {
      "image/png": "[encoded data removed]",
      "text/plain": [
       "<Figure size 500x300 with 1 Axes>"
      ]
     },
     "metadata": {},
     "output_type": "display_data"
    }
   ],
   "source": [
    "figure = plt.figure(figsize=(5,3))\n",
    "fk_df[\"is_FK_Advantage_product\"].value_counts().plot(kind = \"bar\")"
   ]
  },
  {
   "cell_type": "code",
   "execution_count": 88,
   "id": "6594790f",
   "metadata": {},
   "outputs": [
    {
     "data": {
      "text/plain": [
       "(20000, 15)"
      ]
     },
     "execution_count": 88,
     "metadata": {},
     "output_type": "execute_result"
    }
   ],
   "source": [
    "fk_df.shape"
   ]
  },
  {
   "cell_type": "code",
   "execution_count": 87,
   "id": "e9903544",
   "metadata": {},
   "outputs": [
    {
     "data": {
      "text/html": [
       "<div>\n",
       "<style scoped>\n",
       "    .dataframe tbody tr th:only-of-type {\n",
       "        vertical-align: middle;\n",
       "    }\n",
       "\n",
       "    .dataframe tbody tr th {\n",
       "        vertical-align: top;\n",
       "    }\n",
       "\n",
       "    .dataframe thead th {\n",
       "        text-align: right;\n",
       "    }\n",
       "</style>\n",
       "<table border=\"1\" class=\"dataframe\">\n",
       "  <thead>\n",
       "    <tr style=\"text-align: right;\">\n",
       "      <th></th>\n",
       "      <th>uniq_id</th>\n",
       "      <th>crawl_timestamp</th>\n",
       "      <th>product_url</th>\n",
       "      <th>product_name</th>\n",
       "      <th>product_category_tree</th>\n",
       "      <th>pid</th>\n",
       "      <th>retail_price</th>\n",
       "      <th>discounted_price</th>\n",
       "      <th>image</th>\n",
       "      <th>is_FK_Advantage_product</th>\n",
       "      <th>description</th>\n",
       "      <th>product_rating</th>\n",
       "      <th>overall_rating</th>\n",
       "      <th>brand</th>\n",
       "      <th>product_specifications</th>\n",
       "    </tr>\n",
       "  </thead>\n",
       "  <tbody>\n",
       "    <tr>\n",
       "      <th>0</th>\n",
       "      <td>c2d766ca982eca8304150849735ffef9</td>\n",
       "      <td>2016-03-25 22:59:23+00:00</td>\n",
       "      <td>http://www.flipkart.com/alisha-solid-women-s-c...</td>\n",
       "      <td>Alisha Solid Women's Cycling Shorts</td>\n",
       "      <td>[\"Clothing &gt;&gt; Women's Clothing &gt;&gt; Lingerie, Sl...</td>\n",
       "      <td>SRTEH2FF9KEDEFGF</td>\n",
       "      <td>999.0</td>\n",
       "      <td>379.0</td>\n",
       "      <td>[\"http://img5a.flixcart.com/image/short/u/4/a/...</td>\n",
       "      <td>False</td>\n",
       "      <td>Key Features of Alisha Solid Women's Cycling S...</td>\n",
       "      <td>No rating available</td>\n",
       "      <td>No rating available</td>\n",
       "      <td>Alisha</td>\n",
       "      <td>{\"product_specification\"=&gt;[{\"key\"=&gt;\"Number of ...</td>\n",
       "    </tr>\n",
       "    <tr>\n",
       "      <th>1</th>\n",
       "      <td>7f7036a6d550aaa89d34c77bd39a5e48</td>\n",
       "      <td>2016-03-25 22:59:23+00:00</td>\n",
       "      <td>http://www.flipkart.com/fabhomedecor-fabric-do...</td>\n",
       "      <td>FabHomeDecor Fabric Double Sofa Bed</td>\n",
       "      <td>[\"Furniture &gt;&gt; Living Room Furniture &gt;&gt; Sofa B...</td>\n",
       "      <td>SBEEH3QGU7MFYJFY</td>\n",
       "      <td>32157.0</td>\n",
       "      <td>22646.0</td>\n",
       "      <td>[\"http://img6a.flixcart.com/image/sofa-bed/j/f...</td>\n",
       "      <td>False</td>\n",
       "      <td>FabHomeDecor Fabric Double Sofa Bed (Finish Co...</td>\n",
       "      <td>No rating available</td>\n",
       "      <td>No rating available</td>\n",
       "      <td>FabHomeDecor</td>\n",
       "      <td>{\"product_specification\"=&gt;[{\"key\"=&gt;\"Installati...</td>\n",
       "    </tr>\n",
       "  </tbody>\n",
       "</table>\n",
       "</div>"
      ],
      "text/plain": [
       "                            uniq_id           crawl_timestamp   \n",
       "0  c2d766ca982eca8304150849735ffef9 2016-03-25 22:59:23+00:00  \\\n",
       "1  7f7036a6d550aaa89d34c77bd39a5e48 2016-03-25 22:59:23+00:00   \n",
       "\n",
       "                                         product_url   \n",
       "0  http://www.flipkart.com/alisha-solid-women-s-c...  \\\n",
       "1  http://www.flipkart.com/fabhomedecor-fabric-do...   \n",
       "\n",
       "                          product_name   \n",
       "0  Alisha Solid Women's Cycling Shorts  \\\n",
       "1  FabHomeDecor Fabric Double Sofa Bed   \n",
       "\n",
       "                               product_category_tree               pid   \n",
       "0  [\"Clothing >> Women's Clothing >> Lingerie, Sl...  SRTEH2FF9KEDEFGF  \\\n",
       "1  [\"Furniture >> Living Room Furniture >> Sofa B...  SBEEH3QGU7MFYJFY   \n",
       "\n",
       "   retail_price  discounted_price   \n",
       "0         999.0             379.0  \\\n",
       "1       32157.0           22646.0   \n",
       "\n",
       "                                               image  is_FK_Advantage_product   \n",
       "0  [\"http://img5a.flixcart.com/image/short/u/4/a/...                    False  \\\n",
       "1  [\"http://img6a.flixcart.com/image/sofa-bed/j/f...                    False   \n",
       "\n",
       "                                         description       product_rating   \n",
       "0  Key Features of Alisha Solid Women's Cycling S...  No rating available  \\\n",
       "1  FabHomeDecor Fabric Double Sofa Bed (Finish Co...  No rating available   \n",
       "\n",
       "        overall_rating         brand   \n",
       "0  No rating available        Alisha  \\\n",
       "1  No rating available  FabHomeDecor   \n",
       "\n",
       "                              product_specifications  \n",
       "0  {\"product_specification\"=>[{\"key\"=>\"Number of ...  \n",
       "1  {\"product_specification\"=>[{\"key\"=>\"Installati...  "
      ]
     },
     "execution_count": 87,
     "metadata": {},
     "output_type": "execute_result"
    }
   ],
   "source": [
    "fk_df.head(2)"
   ]
  },
  {
   "cell_type": "code",
   "execution_count": 113,
   "id": "f06658d3",
   "metadata": {},
   "outputs": [
    {
     "data": {
      "text/plain": [
       "[217500.0,\n",
       " 69999.0,\n",
       " 49999.0,\n",
       " 49999.0,\n",
       " 49999.0,\n",
       " 49999.0,\n",
       " 49999.0,\n",
       " 49930.0,\n",
       " 49736.0,\n",
       " 49613.0]"
      ]
     },
     "execution_count": 113,
     "metadata": {},
     "output_type": "execute_result"
    }
   ],
   "source": [
    "sorted(fk_df[\"retail_price\"])[::-1][:10]"
   ]
  },
  {
   "cell_type": "code",
   "execution_count": 161,
   "id": "552cf009",
   "metadata": {},
   "outputs": [
    {
     "data": {
      "text/html": [
       "<div>\n",
       "<style scoped>\n",
       "    .dataframe tbody tr th:only-of-type {\n",
       "        vertical-align: middle;\n",
       "    }\n",
       "\n",
       "    .dataframe tbody tr th {\n",
       "        vertical-align: top;\n",
       "    }\n",
       "\n",
       "    .dataframe thead th {\n",
       "        text-align: right;\n",
       "    }\n",
       "</style>\n",
       "<table border=\"1\" class=\"dataframe\">\n",
       "  <thead>\n",
       "    <tr style=\"text-align: right;\">\n",
       "      <th></th>\n",
       "      <th>brand</th>\n",
       "      <th>retail_price</th>\n",
       "    </tr>\n",
       "  </thead>\n",
       "  <tbody>\n",
       "    <tr>\n",
       "      <th>163</th>\n",
       "      <td>Alisha</td>\n",
       "      <td>6094.0</td>\n",
       "    </tr>\n",
       "  </tbody>\n",
       "</table>\n",
       "</div>"
      ],
      "text/plain": [
       "      brand  retail_price\n",
       "163  Alisha        6094.0"
      ]
     },
     "execution_count": 161,
     "metadata": {},
     "output_type": "execute_result"
    }
   ],
   "source": [
    "brand_retail_price = pd.DataFrame(fk_df.groupby([\"brand\"])[\"retail_price\"].sum())\n",
    "brand_retail_price = brand_retail_price.reset_index(col_level=0)\n",
    "brand_retail_price.query(\"brand == 'Alisha'\")"
   ]
  },
  {
   "cell_type": "code",
   "execution_count": 163,
   "id": "074e839d",
   "metadata": {},
   "outputs": [
    {
     "data": {
      "image/png": "[encoded data removed]",
      "text/plain": [
       "<Figure size 1500x400 with 1 Axes>"
      ]
     },
     "metadata": {},
     "output_type": "display_data"
    }
   ],
   "source": [
    "ax = brand_retail_price[:20].plot(kind = \"bar\", x = \"brand\", y = 'retail_price', \n",
    "                     rot = 80, legend=False,\n",
    "                     figsize=(15,4))\n",
    "ax.set_ylabel(\"retail_price\")\n",
    "ax.set_title(\"Retail Price of Brand\")\n",
    "plt.show()"
   ]
  },
  {
   "cell_type": "code",
   "execution_count": 84,
   "id": "74948fe7",
   "metadata": {},
   "outputs": [
    {
     "data": {
      "text/plain": [
       "brand\n",
       "1OAK             2\n",
       "3D Mat           1\n",
       "3a AUTOCARE     23\n",
       "3a Autocare     18\n",
       "3kFactory        1\n",
       "                ..\n",
       "youniqueshop     1\n",
       "zDelhi.com       1\n",
       "zaidis           1\n",
       "zasmina          2\n",
       " Tarkan          1\n",
       "Name: retail_price, Length: 3499, dtype: int64"
      ]
     },
     "execution_count": 84,
     "metadata": {},
     "output_type": "execute_result"
    }
   ],
   "source": [
    "fk_df.groupby(\"brand\")[\"retail_price\"].size()"
   ]
  },
  {
   "cell_type": "code",
   "execution_count": 33,
   "id": "9c5dc70f",
   "metadata": {},
   "outputs": [
    {
     "data": {
      "text/plain": [
       "product_specifications\n",
       "{\"product_specification\"=>[{\"key\"=>\"Type\", \"value\"=>\"Mug\"}, {\"key\"=>\"Mug Capacity\", \"value\"=>\"5.5 l\"}, {\"key\"=>\"Freezer Safe\", \"value\"=>\"Yes\"}, {\"key\"=>\"Material\", \"value\"=>\"Ceramic\"}, {\"key\"=>\"Microwave Safe\", \"value\"=>\"Yes\"}, {\"value\"=>\"1 Year Rockmantra Brand Warranty and Free Transit Insurance.\"}, {\"key\"=>\"Diameter\", \"value\"=>\"88 mm\"}, {\"key\"=>\"Weight\", \"value\"=>\"300 g\"}, {\"key\"=>\"Height\", \"value\"=>\"101 mm\"}, {\"key\"=>\"Width\", \"value\"=>\"88 mm\"}, {\"key\"=>\"Sales Package\", \"value\"=>\"1 mug\"}]}                                                                                                                                                                   71\n",
       "{\"product_specification\"=>nil}                                                                                                                                                                                                                                                                                                                                                                                                                                                                                                                                                                                                                                                      53\n",
       "{\"product_specification\"=>[{\"key\"=>\"Type\", \"value\"=>\"Mug\"}, {\"key\"=>\"Mug Capacity\", \"value\"=>\"350 g\"}, {\"key\"=>\"Material\", \"value\"=>\"Ceramic\"}, {\"key\"=>\"Freezer Safe\", \"value\"=>\"Yes\"}, {\"key\"=>\"Microwave Safe\", \"value\"=>\"Yes\"}, {\"key\"=>\"Weight\", \"value\"=>\"350 g\"}, {\"key\"=>\"Sales Package\", \"value\"=>\"1 Mug\"}]}                                                                                                                                                                                                                                                                                                                                                               51\n",
       "{\"product_specification\"=>[{\"key\"=>\"Type\", \"value\"=>\"Mug\"}, {\"key\"=>\"Mug Capacity\", \"value\"=>\"350 ml\"}, {\"key\"=>\"Material\", \"value\"=>\"Ceramic\"}, {\"key\"=>\"Freezer Safe\", \"value\"=>\"Yes\"}, {\"key\"=>\"Microwave Safe\", \"value\"=>\"Yes\"}, {\"key\"=>\"Weight\", \"value\"=>\"350 g\"}, {\"key\"=>\"Sales Package\", \"value\"=>\"1 Mug\"}]}                                                                                                                                                                                                                                                                                                                                                              35\n",
       "{\"product_specification\"=>[{\"key\"=>\"Number of Contents in Sales Package\", \"value\"=>\"Pack of 3\"}, {\"key\"=>\"Fabric\", \"value\"=>\"Cotton Lycra\"}, {\"key\"=>\"Type\", \"value\"=>\"Leggings\"}, {\"key\"=>\"Pattern\", \"value\"=>\"Solid\"}, {\"key\"=>\"Ideal For\", \"value\"=>\"Women's\"}]}                                                                                                                                                                                                                                                                                                                                                                                                                 33\n",
       "                                                                                                                                                                                                                                                                                                                                                                                                                                                                                                                                                                                                                                                                                    ..\n",
       "{\"product_specification\"=>[{\"key\"=>\"Number of Contents in Set\", \"value\"=>\"2\"}, {\"key\"=>\"Combo Set Content\", \"value\"=>\"1 Old Spice Fresh Deodorant Spray - For Men(150 ml) 1 Old Spice Fresh Lime Deodorant Spray - For Men(150 ml)\"}, {\"key\"=>\"Ideal For\", \"value\"=>\"Men\"}, {\"key\"=>\"Fragrance Segment\", \"value\"=>\"Mass Premium\"}, {\"value\"=>\"1 Old Spice Fresh Deodorant Spray - For Men(150 ml), 1 Old Spice Fresh Lime Deodorant Spray - For Men(150 ml)\"}]}                                                                                                                                                                                                                      1\n",
       "{\"product_specification\"=>[{\"key\"=>\"Collection\", \"value\"=>\"Cocktail\"}, {\"key\"=>\"Brand\", \"value\"=>\"Fashion Jewellery\"}, {\"key\"=>\"Precious/Artificial Jewellery\", \"value\"=>\"Fashion Jewellery\"}, {\"key\"=>\"Model Number\", \"value\"=>\"NFJU099UK\"}, {\"key\"=>\"Type\", \"value\"=>\"Necklace\"}, {\"key\"=>\"Occasion\", \"value\"=>\"Everyday\"}, {\"key\"=>\"Ideal For\", \"value\"=>\"Girls, Women\"}, {\"key\"=>\"Color\", \"value\"=>\"Gold\"}, {\"key\"=>\"Base Material\", \"value\"=>\"Alloy\"}, {\"key\"=>\"Setting\", \"value\"=>\"Roll On Pearl Necklace\"}, {\"key\"=>\"Pack of\", \"value\"=>\"1\"}]}                                                                                                                                1\n",
       "{\"product_specification\"=>[{\"key\"=>\"Model Name\", \"value\"=>\"Hippie 09\"}, {\"key\"=>\"Series\", \"value\"=>\"Utility Pouch Hippie Miniature Bag\"}, {\"key\"=>\"Weight\", \"value\"=>\"200 g\"}, {\"key\"=>\"Height\", \"value\"=>\"200 mm\"}, {\"key\"=>\"Width\", \"value\"=>\"90 mm\"}, {\"key\"=>\"Depth\", \"value\"=>\"50 mm\"}, {\"value\"=>\"1 Pencil Box\"}, {\"key\"=>\"Pencil Box Closure Type\", \"value\"=>\"Zip\"}, {\"key\"=>\"Pencil Box Art\", \"value\"=>\"Abstract\"}, {\"key\"=>\"Pencil Box Material\", \"value\"=>\"Cloth\"}]}                                                                                                                                                                                                       1\n",
       "{\"product_specification\"=>[{\"key\"=>\"Collection\", \"value\"=>\"Designer\"}, {\"key\"=>\"Brand\", \"value\"=>\"Hotpiper\"}, {\"key\"=>\"Precious/Artificial Jewellery\", \"value\"=>\"Fashion Jewellery\"}, {\"key\"=>\"Model Number\", \"value\"=>\"9270327\"}, {\"key\"=>\"Type\", \"value\"=>\"Necklace\"}, {\"key\"=>\"Model Name\", \"value\"=>\"Designer Black\"}, {\"key\"=>\"Occasion\", \"value\"=>\"Everyday, Love\"}, {\"key\"=>\"Ideal For\", \"value\"=>\"Women, Girls\"}, {\"key\"=>\"Color\", \"value\"=>\"Black\"}, {\"key\"=>\"Base Material\", \"value\"=>\"Acrylic\"}, {\"key\"=>\"Plating\", \"value\"=>\"Yellow Gold\"}, {\"key\"=>\"Finish\", \"value\"=>\"Glossy\"}, {\"key\"=>\"Sales Package\", \"value\"=>\"1Necklace\"}, {\"key\"=>\"Pack of\", \"value\"=>\"1\"}]}     1\n",
       "{\"product_specification\"=>[{\"key\"=>\"Number of Contents in Sales Package\", \"value\"=>\"Pack of 3\"}, {\"key\"=>\"Sales Package\", \"value\"=>\"3D Acrylic Wall Decor Decal, Self Adhesive Tape, Installation Guide\"}, {\"key\"=>\"Ideal Use\", \"value\"=>\"Wall\"}, {\"key\"=>\"Brand\", \"value\"=>\"Elite Collection\"}, {\"key\"=>\"Scratch-resistant\", \"value\"=>\"No\"}, {\"key\"=>\"Type\", \"value\"=>\"Acrylic\"}, {\"key\"=>\"Number of Stickers\", \"value\"=>\"3\"}, {\"key\"=>\"Size in Number\", \"value\"=>\"0.2 cm\"}, {\"key\"=>\"Size\", \"value\"=>\"Medium\"}, {\"key\"=>\"Weight\", \"value\"=>\"500 g\"}, {\"key\"=>\"Thickness\", \"value\"=>\"0.2 cm\"}]}                                                                                     1\n",
       "Name: count, Length: 18825, dtype: int64"
      ]
     },
     "execution_count": 33,
     "metadata": {},
     "output_type": "execute_result"
    }
   ],
   "source": [
    "fk_df[\"product_specifications\"].value_counts()"
   ]
  },
  {
   "cell_type": "code",
   "execution_count": null,
   "id": "30c47af7",
   "metadata": {},
   "outputs": [],
   "source": []
  }
 ],
 "metadata": {
  "kernelspec": {
   "display_name": "Python 3 (ipykernel)",
   "language": "python",
   "name": "python3"
  },
  "language_info": {
   "codemirror_mode": {
    "name": "ipython",
    "version": 3
   },
   "file_extension": ".py",
   "mimetype": "text/x-python",
   "name": "python",
   "nbconvert_exporter": "python",
   "pygments_lexer": "ipython3",
   "version": "3.10.12"
  }
 },
 "nbformat": 4,
 "nbformat_minor": 5
}
